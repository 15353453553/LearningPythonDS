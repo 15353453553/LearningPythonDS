{
 "cells": [
  {
   "cell_type": "code",
   "execution_count": 1,
   "id": "3aaa7002",
   "metadata": {},
   "outputs": [],
   "source": [
    "import requests\n",
    "import bs4\n",
    "import numpy as np\n",
    "import pandas as pd"
   ]
  },
  {
   "cell_type": "code",
   "execution_count": 2,
   "id": "2a1ab217",
   "metadata": {},
   "outputs": [],
   "source": [
    "result = requests.get(\"https://en.wikipedia.org/wiki/List_of_countries_by_homeless_population\")\n",
    "soup = bs4.BeautifulSoup(result.text, \"lxml\")\n",
    "table = soup.select('table')\n",
    "body = table[0].select('tbody')\n",
    "rows = body[0].select('tr')\n",
    "rows = rows[1:]"
   ]
  },
  {
   "cell_type": "code",
   "execution_count": 3,
   "id": "f7d838b4",
   "metadata": {},
   "outputs": [],
   "source": [
    "countries = []\n",
    "raw_data = np.empty([len(rows),2],np.float64)\n",
    "raw_data[:] = np.nan"
   ]
  },
  {
   "cell_type": "code",
   "execution_count": 4,
   "id": "b66db27e",
   "metadata": {},
   "outputs": [],
   "source": [
    "for row in range(len(rows)):\n",
    "\n",
    "        countries.append(rows[row].select('a')[0].getText())\n",
    "        \n",
    "        raw_data[row, 0] = np.float64(rows[row].select('td')[3].getText())\n",
    "        raw_data[row, 1] = np.float64(rows[row].select('td')[2].getText()[:4])"
   ]
  },
  {
   "cell_type": "code",
   "execution_count": 5,
   "id": "ac706acf",
   "metadata": {},
   "outputs": [],
   "source": [
    "countries_df = pd.DataFrame(countries)\n",
    "data_df = pd.DataFrame(raw_data)\n",
    "all_data = pd.concat((countries_df,data_df),axis=1)"
   ]
  },
  {
   "cell_type": "code",
   "execution_count": 6,
   "id": "928eafe7",
   "metadata": {},
   "outputs": [
    {
     "data": {
      "text/html": [
       "<div>\n",
       "<style scoped>\n",
       "    .dataframe tbody tr th:only-of-type {\n",
       "        vertical-align: middle;\n",
       "    }\n",
       "\n",
       "    .dataframe tbody tr th {\n",
       "        vertical-align: top;\n",
       "    }\n",
       "\n",
       "    .dataframe thead th {\n",
       "        text-align: right;\n",
       "    }\n",
       "</style>\n",
       "<table border=\"1\" class=\"dataframe\">\n",
       "  <thead>\n",
       "    <tr style=\"text-align: right;\">\n",
       "      <th></th>\n",
       "      <th>Countries</th>\n",
       "      <th>Homeless_per_10k</th>\n",
       "      <th>Year</th>\n",
       "    </tr>\n",
       "  </thead>\n",
       "  <tbody>\n",
       "    <tr>\n",
       "      <th>0</th>\n",
       "      <td>Afghanistan</td>\n",
       "      <td>1180.0</td>\n",
       "      <td>2020.0</td>\n",
       "    </tr>\n",
       "    <tr>\n",
       "      <th>1</th>\n",
       "      <td>Australia</td>\n",
       "      <td>49.1</td>\n",
       "      <td>2016.0</td>\n",
       "    </tr>\n",
       "    <tr>\n",
       "      <th>2</th>\n",
       "      <td>Austria</td>\n",
       "      <td>25.4</td>\n",
       "      <td>2019.0</td>\n",
       "    </tr>\n",
       "    <tr>\n",
       "      <th>3</th>\n",
       "      <td>Azerbaijan</td>\n",
       "      <td>725.0</td>\n",
       "      <td>2020.0</td>\n",
       "    </tr>\n",
       "    <tr>\n",
       "      <th>4</th>\n",
       "      <td>Bangladesh</td>\n",
       "      <td>307.0</td>\n",
       "      <td>2019.0</td>\n",
       "    </tr>\n",
       "    <tr>\n",
       "      <th>...</th>\n",
       "      <td>...</td>\n",
       "      <td>...</td>\n",
       "      <td>...</td>\n",
       "    </tr>\n",
       "    <tr>\n",
       "      <th>83</th>\n",
       "      <td>United Kingdom</td>\n",
       "      <td>54.4</td>\n",
       "      <td>2019.0</td>\n",
       "    </tr>\n",
       "    <tr>\n",
       "      <th>84</th>\n",
       "      <td>United States</td>\n",
       "      <td>17.6</td>\n",
       "      <td>2020.0</td>\n",
       "    </tr>\n",
       "    <tr>\n",
       "      <th>85</th>\n",
       "      <td>Yemen</td>\n",
       "      <td>1294.0</td>\n",
       "      <td>2020.0</td>\n",
       "    </tr>\n",
       "    <tr>\n",
       "      <th>86</th>\n",
       "      <td>Vietnam</td>\n",
       "      <td>16.6</td>\n",
       "      <td>2020.0</td>\n",
       "    </tr>\n",
       "    <tr>\n",
       "      <th>87</th>\n",
       "      <td>Zimbabwe</td>\n",
       "      <td>848.0</td>\n",
       "      <td>2013.0</td>\n",
       "    </tr>\n",
       "  </tbody>\n",
       "</table>\n",
       "<p>88 rows × 3 columns</p>\n",
       "</div>"
      ],
      "text/plain": [
       "         Countries  Homeless_per_10k    Year\n",
       "0      Afghanistan            1180.0  2020.0\n",
       "1        Australia              49.1  2016.0\n",
       "2          Austria              25.4  2019.0\n",
       "3       Azerbaijan             725.0  2020.0\n",
       "4       Bangladesh             307.0  2019.0\n",
       "..             ...               ...     ...\n",
       "83  United Kingdom              54.4  2019.0\n",
       "84   United States              17.6  2020.0\n",
       "85           Yemen            1294.0  2020.0\n",
       "86         Vietnam              16.6  2020.0\n",
       "87        Zimbabwe             848.0  2013.0\n",
       "\n",
       "[88 rows x 3 columns]"
      ]
     },
     "execution_count": 6,
     "metadata": {},
     "output_type": "execute_result"
    }
   ],
   "source": [
    "all_data.columns = ['Countries', 'Homeless_per_10k', 'Year']\n",
    "all_data"
   ]
  },
  {
   "cell_type": "code",
   "execution_count": 7,
   "id": "4f61a4d5",
   "metadata": {},
   "outputs": [],
   "source": [
    "all_data.to_csv('WorldWideHomeless')"
   ]
  }
 ],
 "metadata": {
  "kernelspec": {
   "display_name": "Python 3 (ipykernel)",
   "language": "python",
   "name": "python3"
  },
  "language_info": {
   "codemirror_mode": {
    "name": "ipython",
    "version": 3
   },
   "file_extension": ".py",
   "mimetype": "text/x-python",
   "name": "python",
   "nbconvert_exporter": "python",
   "pygments_lexer": "ipython3",
   "version": "3.9.12"
  }
 },
 "nbformat": 4,
 "nbformat_minor": 5
}
