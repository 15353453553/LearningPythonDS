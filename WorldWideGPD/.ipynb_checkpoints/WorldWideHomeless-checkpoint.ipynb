{
 "cells": [
  {
   "cell_type": "code",
   "execution_count": 1,
   "id": "3aaa7002",
   "metadata": {},
   "outputs": [],
   "source": [
    "import requests\n",
    "import bs4\n",
    "import numpy as np\n",
    "import pandas as pd"
   ]
  },
  {
   "cell_type": "code",
   "execution_count": 2,
   "id": "2a1ab217",
   "metadata": {},
   "outputs": [],
   "source": [
    "result = requests.get(\"https://en.wikipedia.org/wiki/List_of_countries_by_homeless_population\")\n",
    "soup = bs4.BeautifulSoup(result.text, \"lxml\")\n",
    "table = soup.select('table')\n",
    "body = table[1].select('tbody')\n",
    "rows = body[0].select('tr')\n",
    "rows = rows[2:]"
   ]
  },
  {
   "cell_type": "code",
   "execution_count": 3,
   "id": "f7d838b4",
   "metadata": {},
   "outputs": [],
   "source": [
    "rows.pop(116)\n",
    "countries = np.empty([len(rows),2], dtype=object)\n",
    "raw_data = np.empty([len(rows),2],np.float64)\n",
    "raw_data[:] = np.nan"
   ]
  },
  {
   "cell_type": "code",
   "execution_count": 4,
   "id": "a5541df9",
   "metadata": {},
   "outputs": [
    {
     "name": "stdout",
     "output_type": "stream",
     "text": [
      "Exception reporting mode: Verbose\n",
      "(\"could not convert string to float: '[n 2]2022'\",)\n"
     ]
    }
   ],
   "source": [
    "%xmode Verbose\n",
    "for row in range(len(rows)):\n",
    "\n",
    "        countries[row,0] = rows[row].select('a')[0].getText()[:-2]\n",
    "        countries[row,1] = rows[row].select('a')[1].getText()\n",
    "        \n",
    "        element = 2\n",
    "        column = 0\n",
    "\n",
    "        while(column<2):\n",
    "            field = str(rows[row].select('td')[element].getText())\n",
    "            if(field==\"—\"):\n",
    "                element+=1\n",
    "            else:\n",
    "                try:\n",
    "                    raw_data[row,column] = np.float64(field.replace(\",\",\"\"))\n",
    "                    element+=1\n",
    "                    column+=1\n",
    "                except ValueError as e:\n",
    "                    raw_data[row,column] = np.float64(field.replace(\",\",\"\")[-4:])\n",
    "                    print(e.args)\n",
    "                    element+=1\n",
    "                    column+=1"
   ]
  },
  {
   "cell_type": "code",
   "execution_count": 5,
   "id": "ac706acf",
   "metadata": {},
   "outputs": [],
   "source": [
    "countries_df = pd.DataFrame(countries)\n",
    "data_df = pd.DataFrame(raw_data)\n",
    "all_data = pd.concat((countries_df,data_df),axis=1)"
   ]
  },
  {
   "cell_type": "code",
   "execution_count": 6,
   "id": "928eafe7",
   "metadata": {},
   "outputs": [
    {
     "data": {
      "text/html": [
       "<div>\n",
       "<style scoped>\n",
       "    .dataframe tbody tr th:only-of-type {\n",
       "        vertical-align: middle;\n",
       "    }\n",
       "\n",
       "    .dataframe tbody tr th {\n",
       "        vertical-align: top;\n",
       "    }\n",
       "\n",
       "    .dataframe thead th {\n",
       "        text-align: right;\n",
       "    }\n",
       "</style>\n",
       "<table border=\"1\" class=\"dataframe\">\n",
       "  <thead>\n",
       "    <tr style=\"text-align: right;\">\n",
       "      <th></th>\n",
       "      <th>Countries</th>\n",
       "      <th>UN_Region</th>\n",
       "      <th>GPD_per_capita</th>\n",
       "      <th>Year</th>\n",
       "    </tr>\n",
       "  </thead>\n",
       "  <tbody>\n",
       "    <tr>\n",
       "      <th>0</th>\n",
       "      <td>Monaco</td>\n",
       "      <td>Europe</td>\n",
       "      <td>190513.0</td>\n",
       "      <td>2019.0</td>\n",
       "    </tr>\n",
       "    <tr>\n",
       "      <th>1</th>\n",
       "      <td>Liechtenstein</td>\n",
       "      <td>Europe</td>\n",
       "      <td>180367.0</td>\n",
       "      <td>2018.0</td>\n",
       "    </tr>\n",
       "    <tr>\n",
       "      <th>2</th>\n",
       "      <td>Luxembourg</td>\n",
       "      <td>Europe</td>\n",
       "      <td>140694.0</td>\n",
       "      <td>2022.0</td>\n",
       "    </tr>\n",
       "    <tr>\n",
       "      <th>3</th>\n",
       "      <td>Singapore</td>\n",
       "      <td>Asia</td>\n",
       "      <td>131580.0</td>\n",
       "      <td>2022.0</td>\n",
       "    </tr>\n",
       "    <tr>\n",
       "      <th>4</th>\n",
       "      <td>Ireland</td>\n",
       "      <td>Europe</td>\n",
       "      <td>124596.0</td>\n",
       "      <td>2022.0</td>\n",
       "    </tr>\n",
       "    <tr>\n",
       "      <th>...</th>\n",
       "      <td>...</td>\n",
       "      <td>...</td>\n",
       "      <td>...</td>\n",
       "      <td>...</td>\n",
       "    </tr>\n",
       "    <tr>\n",
       "      <th>224</th>\n",
       "      <td>Somalia</td>\n",
       "      <td>Africa</td>\n",
       "      <td>1322.0</td>\n",
       "      <td>2022.0</td>\n",
       "    </tr>\n",
       "    <tr>\n",
       "      <th>225</th>\n",
       "      <td>DR Congo</td>\n",
       "      <td>Africa</td>\n",
       "      <td>1316.0</td>\n",
       "      <td>2022.0</td>\n",
       "    </tr>\n",
       "    <tr>\n",
       "      <th>226</th>\n",
       "      <td>Central African Republic</td>\n",
       "      <td>Africa</td>\n",
       "      <td>1102.0</td>\n",
       "      <td>2022.0</td>\n",
       "    </tr>\n",
       "    <tr>\n",
       "      <th>227</th>\n",
       "      <td>South Sudan</td>\n",
       "      <td>Africa</td>\n",
       "      <td>928.0</td>\n",
       "      <td>2022.0</td>\n",
       "    </tr>\n",
       "    <tr>\n",
       "      <th>228</th>\n",
       "      <td>Burundi</td>\n",
       "      <td>Africa</td>\n",
       "      <td>856.0</td>\n",
       "      <td>2022.0</td>\n",
       "    </tr>\n",
       "  </tbody>\n",
       "</table>\n",
       "<p>229 rows × 4 columns</p>\n",
       "</div>"
      ],
      "text/plain": [
       "                    Countries UN_Region  GPD_per_capita    Year\n",
       "0                      Monaco    Europe        190513.0  2019.0\n",
       "1               Liechtenstein    Europe        180367.0  2018.0\n",
       "2                  Luxembourg    Europe        140694.0  2022.0\n",
       "3                   Singapore      Asia        131580.0  2022.0\n",
       "4                     Ireland    Europe        124596.0  2022.0\n",
       "..                        ...       ...             ...     ...\n",
       "224                   Somalia    Africa          1322.0  2022.0\n",
       "225                  DR Congo    Africa          1316.0  2022.0\n",
       "226  Central African Republic    Africa          1102.0  2022.0\n",
       "227               South Sudan    Africa           928.0  2022.0\n",
       "228                   Burundi    Africa           856.0  2022.0\n",
       "\n",
       "[229 rows x 4 columns]"
      ]
     },
     "execution_count": 6,
     "metadata": {},
     "output_type": "execute_result"
    }
   ],
   "source": [
    "all_data.columns = ['Countries', 'UN_Region', 'GPD_per_capita', 'Year']\n",
    "all_data"
   ]
  },
  {
   "cell_type": "code",
   "execution_count": 7,
   "id": "4f61a4d5",
   "metadata": {},
   "outputs": [],
   "source": [
    "all_data.to_csv('WorldWideGPD')"
   ]
  }
 ],
 "metadata": {
  "kernelspec": {
   "display_name": "Python 3 (ipykernel)",
   "language": "python",
   "name": "python3"
  },
  "language_info": {
   "codemirror_mode": {
    "name": "ipython",
    "version": 3
   },
   "file_extension": ".py",
   "mimetype": "text/x-python",
   "name": "python",
   "nbconvert_exporter": "python",
   "pygments_lexer": "ipython3",
   "version": "3.9.12"
  }
 },
 "nbformat": 4,
 "nbformat_minor": 5
}
